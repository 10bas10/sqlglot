{
 "cells": [
  {
   "cell_type": "code",
   "execution_count": 1,
   "metadata": {},
   "outputs": [
    {
     "name": "stderr",
     "output_type": "stream",
     "text": [
      "Retrieving objects: 100%|██████████| 7/7 [00:02<00:00,  2.93it/s]\n",
      "Transpiling: 100%|██████████| 49/49 [00:01<00:00, 31.08it/s]"
     ]
    },
    {
     "name": "stdout",
     "output_type": "stream",
     "text": [
      "Transpilation results\n",
      "Succeeded:\t49\n",
      "Failed:\t\t0\n",
      "Success ratio:\t100.0%\n",
      "\n",
      "Transpile error information:\n",
      "Empty DataFrame\n",
      "Columns: [numErrors]\n",
      "Index: []\n",
      "\n"
     ]
    },
    {
     "name": "stderr",
     "output_type": "stream",
     "text": [
      "\n"
     ]
    }
   ],
   "source": [
    "from sqlglot.vlk.batch import batchTranspile\n",
    "from sqlglot.vlk.repoinventory import Database\n",
    "\n",
    "database_types = (\n",
    "    Database.Type.TRANSFORM,\n",
    "    Database.Type.REFERENCE,\n",
    "    Database.Type.STAGING,\n",
    "    Database.Type.STG_ARCHIVE,\n",
    ")\n",
    "\n",
    "def database_filter(db):\n",
    "    return \"bankview\" in db.lower() or db.lower() == \"reference\"\n",
    "\n",
    "batch = batchTranspile(\n",
    "    root=\"C:/Users/USEFRA/source/repos/DWH-VLK\",\n",
    "    scope=database_types,\n",
    "    filter=database_filter,\n",
    "    view_metadata_csv=\"metadata/view_metadata.csv\",\n",
    "    db_prefix=\"vl_dwh_\",\n",
    ")\n",
    "\n",
    "batch.transpile()\n",
    "# batch.create_source_tables()\n",
    "# batch.test_mappings()\n",
    "batch.report()\n"
   ]
  },
  {
   "cell_type": "code",
   "execution_count": 5,
   "metadata": {},
   "outputs": [
    {
     "data": {
      "text/html": [
       "<div>\n",
       "<style scoped>\n",
       "    .dataframe tbody tr th:only-of-type {\n",
       "        vertical-align: middle;\n",
       "    }\n",
       "\n",
       "    .dataframe tbody tr th {\n",
       "        vertical-align: top;\n",
       "    }\n",
       "\n",
       "    .dataframe thead th {\n",
       "        text-align: right;\n",
       "    }\n",
       "</style>\n",
       "<table border=\"1\" class=\"dataframe\">\n",
       "  <thead>\n",
       "    <tr style=\"text-align: right;\">\n",
       "      <th></th>\n",
       "      <th>database</th>\n",
       "      <th>schema</th>\n",
       "      <th>table</th>\n",
       "      <th>udf</th>\n",
       "      <th>errortype</th>\n",
       "    </tr>\n",
       "  </thead>\n",
       "  <tbody>\n",
       "    <tr>\n",
       "      <th>26</th>\n",
       "      <td>transform_dochtersheets</td>\n",
       "      <td>kco</td>\n",
       "      <td>persoon</td>\n",
       "      <td>udf_persoon_CUSTOMER_RPS</td>\n",
       "      <td>Error running query: org.apache.spark.sql.AnalysisException: Undefined function: vl_dwh_referenc...</td>\n",
       "    </tr>\n",
       "    <tr>\n",
       "      <th>27</th>\n",
       "      <td>transform_dochtersheets</td>\n",
       "      <td>kco</td>\n",
       "      <td>persoon</td>\n",
       "      <td>udf_persoon_CUSTOMER_NPS</td>\n",
       "      <td>Error running query: org.apache.spark.sql.AnalysisException: Undefined function: vl_dwh_referenc...</td>\n",
       "    </tr>\n",
       "    <tr>\n",
       "      <th>34</th>\n",
       "      <td>transform_dochtersheets</td>\n",
       "      <td>oma</td>\n",
       "      <td>persoon</td>\n",
       "      <td>udf_persoon_CUSTOMER_RPS</td>\n",
       "      <td>Error running query: org.apache.spark.sql.AnalysisException: Undefined function: vl_dwh_referenc...</td>\n",
       "    </tr>\n",
       "    <tr>\n",
       "      <th>35</th>\n",
       "      <td>transform_dochtersheets</td>\n",
       "      <td>oma</td>\n",
       "      <td>persoon</td>\n",
       "      <td>udf_persoon_CUSTOMER_NPS</td>\n",
       "      <td>Error running query: org.apache.spark.sql.AnalysisException: Undefined function: vl_dwh_referenc...</td>\n",
       "    </tr>\n",
       "    <tr>\n",
       "      <th>40</th>\n",
       "      <td>transform_dochtersheets</td>\n",
       "      <td>spd</td>\n",
       "      <td>persoon</td>\n",
       "      <td>udf_persoon_CUSTOMER_RPS</td>\n",
       "      <td>Error running query: org.apache.spark.sql.AnalysisException: Undefined function: vl_dwh_referenc...</td>\n",
       "    </tr>\n",
       "    <tr>\n",
       "      <th>41</th>\n",
       "      <td>transform_dochtersheets</td>\n",
       "      <td>spd</td>\n",
       "      <td>persoon</td>\n",
       "      <td>udf_persoon_CUSTOMER_NPS</td>\n",
       "      <td>Error running query: org.apache.spark.sql.AnalysisException: Undefined function: vl_dwh_referenc...</td>\n",
       "    </tr>\n",
       "    <tr>\n",
       "      <th>42</th>\n",
       "      <td>transform_dochtersheets</td>\n",
       "      <td>vch</td>\n",
       "      <td>persoon</td>\n",
       "      <td>udf_persoon_CUSTOMER_RPS</td>\n",
       "      <td>Error running query: org.apache.spark.sql.AnalysisException: Undefined function: vl_dwh_referenc...</td>\n",
       "    </tr>\n",
       "    <tr>\n",
       "      <th>43</th>\n",
       "      <td>transform_dochtersheets</td>\n",
       "      <td>vch</td>\n",
       "      <td>persoon</td>\n",
       "      <td>udf_persoon_CUSTOMER_NPS</td>\n",
       "      <td>Error running query: org.apache.spark.sql.AnalysisException: Undefined function: vl_dwh_referenc...</td>\n",
       "    </tr>\n",
       "  </tbody>\n",
       "</table>\n",
       "</div>"
      ],
      "text/plain": [
       "                   database schema    table                       udf  \\\n",
       "26  transform_dochtersheets    kco  persoon  udf_persoon_CUSTOMER_RPS   \n",
       "27  transform_dochtersheets    kco  persoon  udf_persoon_CUSTOMER_NPS   \n",
       "34  transform_dochtersheets    oma  persoon  udf_persoon_CUSTOMER_RPS   \n",
       "35  transform_dochtersheets    oma  persoon  udf_persoon_CUSTOMER_NPS   \n",
       "40  transform_dochtersheets    spd  persoon  udf_persoon_CUSTOMER_RPS   \n",
       "41  transform_dochtersheets    spd  persoon  udf_persoon_CUSTOMER_NPS   \n",
       "42  transform_dochtersheets    vch  persoon  udf_persoon_CUSTOMER_RPS   \n",
       "43  transform_dochtersheets    vch  persoon  udf_persoon_CUSTOMER_NPS   \n",
       "\n",
       "                                                                                              errortype  \n",
       "26  Error running query: org.apache.spark.sql.AnalysisException: Undefined function: vl_dwh_referenc...  \n",
       "27  Error running query: org.apache.spark.sql.AnalysisException: Undefined function: vl_dwh_referenc...  \n",
       "34  Error running query: org.apache.spark.sql.AnalysisException: Undefined function: vl_dwh_referenc...  \n",
       "35  Error running query: org.apache.spark.sql.AnalysisException: Undefined function: vl_dwh_referenc...  \n",
       "40  Error running query: org.apache.spark.sql.AnalysisException: Undefined function: vl_dwh_referenc...  \n",
       "41  Error running query: org.apache.spark.sql.AnalysisException: Undefined function: vl_dwh_referenc...  \n",
       "42  Error running query: org.apache.spark.sql.AnalysisException: Undefined function: vl_dwh_referenc...  \n",
       "43  Error running query: org.apache.spark.sql.AnalysisException: Undefined function: vl_dwh_referenc...  "
      ]
     },
     "execution_count": 5,
     "metadata": {},
     "output_type": "execute_result"
    }
   ],
   "source": [
    "batch.test_errors[batch.test_errors[\"errortype\"].str.startswith(\"Error running query: org.apache.spark.sql.AnalysisException: Undefined function: vl_dwh_reference.TRN_GETTRANSLATION\")]"
   ]
  }
 ],
 "metadata": {
  "kernelspec": {
   "display_name": ".venv",
   "language": "python",
   "name": "python3"
  },
  "language_info": {
   "codemirror_mode": {
    "name": "ipython",
    "version": 3
   },
   "file_extension": ".py",
   "mimetype": "text/x-python",
   "name": "python",
   "nbconvert_exporter": "python",
   "pygments_lexer": "ipython3",
   "version": "3.11.0"
  },
  "vscode": {
   "interpreter": {
    "hash": "ec7db736b37276915fb7340dc6da8e9e61e7f81c2d44db0d08fe8ae4da315597"
   }
  }
 },
 "nbformat": 4,
 "nbformat_minor": 4
}
