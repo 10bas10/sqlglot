{
 "cells": [
  {
   "cell_type": "code",
   "execution_count": 1,
   "metadata": {},
   "outputs": [
    {
     "name": "stderr",
     "output_type": "stream",
     "text": [
      "Retrieving objects: 100%|██████████| 7/7 [00:00<00:00, 12.78it/s]\n",
      "Transpiling: 100%|██████████| 49/49 [00:01<00:00, 24.54it/s]"
     ]
    },
    {
     "name": "stdout",
     "output_type": "stream",
     "text": [
      "Transpilation results\n",
      "Succeeded:\t49\n",
      "Failed:\t\t0\n",
      "Success ratio:\t100.0%\n",
      "\n",
      "Transpile error information:\n",
      "Empty DataFrame\n",
      "Columns: [numErrors]\n",
      "Index: []\n",
      "\n"
     ]
    },
    {
     "name": "stderr",
     "output_type": "stream",
     "text": [
      "\n"
     ]
    }
   ],
   "source": [
    "from sqlglot.vlk.batch import batchTranspile\n",
    "from sqlglot.vlk.repoinventory import Database\n",
    "\n",
    "database_types = (\n",
    "    Database.Type.TRANSFORM,\n",
    "    Database.Type.REFERENCE,\n",
    "    Database.Type.STAGING,\n",
    "    Database.Type.STG_ARCHIVE,\n",
    ")\n",
    "\n",
    "def database_filter(db):\n",
    "    return True#\"bankview\" in db.lower() or db.lower() == \"reference\"\n",
    "\n",
    "batch = batchTranspile(\n",
    "    root=\"C:/Users/USEFRA/source/repos/DWH-VLK\",\n",
    "    scope=database_types,\n",
    "    filter=database_filter,\n",
    "    view_metadata_csv=\"metadata/view_metadata.csv\",\n",
    "    db_prefix=\"vl_dwh_\",\n",
    ")\n",
    "\n",
    "batch.transpile()\n",
    "# batch.create_source_tables()\n",
    "batch.test_mappings()\n",
    "batch.report()\n"
   ]
  },
  {
   "cell_type": "code",
   "execution_count": 3,
   "metadata": {},
   "outputs": [
    {
     "data": {
      "text/html": [
       "<div>\n",
       "<style scoped>\n",
       "    .dataframe tbody tr th:only-of-type {\n",
       "        vertical-align: middle;\n",
       "    }\n",
       "\n",
       "    .dataframe tbody tr th {\n",
       "        vertical-align: top;\n",
       "    }\n",
       "\n",
       "    .dataframe thead th {\n",
       "        text-align: right;\n",
       "    }\n",
       "</style>\n",
       "<table border=\"1\" class=\"dataframe\">\n",
       "  <thead>\n",
       "    <tr style=\"text-align: right;\">\n",
       "      <th></th>\n",
       "      <th>database</th>\n",
       "      <th>schema</th>\n",
       "      <th>table</th>\n",
       "      <th>udf</th>\n",
       "      <th>errortype</th>\n",
       "    </tr>\n",
       "  </thead>\n",
       "  <tbody>\n",
       "    <tr>\n",
       "      <th>17</th>\n",
       "      <td>transform_quion</td>\n",
       "      <td>qim</td>\n",
       "      <td>relatie_default_crr</td>\n",
       "      <td>udf_relatie_default_crr_RELATIE_DEFAULT_BEHEER</td>\n",
       "      <td>Unknown table: lening_mnd</td>\n",
       "    </tr>\n",
       "    <tr>\n",
       "      <th>20</th>\n",
       "      <td>transform_quion</td>\n",
       "      <td>qim</td>\n",
       "      <td>relatie</td>\n",
       "      <td>udf_relatie_PORTFOLIO_BEHEER</td>\n",
       "      <td>Unknown table: lening_mnd</td>\n",
       "    </tr>\n",
       "    <tr>\n",
       "      <th>22</th>\n",
       "      <td>transform_quion</td>\n",
       "      <td>qim</td>\n",
       "      <td>zekerheid</td>\n",
       "      <td>udf_zekerheid_ZEKERHEIDCONTRACT_REGISTERGOED_BEHEER</td>\n",
       "      <td>Unknown table: lening_mnd</td>\n",
       "    </tr>\n",
       "  </tbody>\n",
       "</table>\n",
       "</div>"
      ],
      "text/plain": [
       "           database schema                table  \\\n",
       "17  transform_quion    qim  relatie_default_crr   \n",
       "20  transform_quion    qim              relatie   \n",
       "22  transform_quion    qim            zekerheid   \n",
       "\n",
       "                                                    udf  \\\n",
       "17       udf_relatie_default_crr_RELATIE_DEFAULT_BEHEER   \n",
       "20                         udf_relatie_PORTFOLIO_BEHEER   \n",
       "22  udf_zekerheid_ZEKERHEIDCONTRACT_REGISTERGOED_BEHEER   \n",
       "\n",
       "                    errortype  \n",
       "17  Unknown table: lening_mnd  \n",
       "20  Unknown table: lening_mnd  \n",
       "22  Unknown table: lening_mnd  "
      ]
     },
     "execution_count": 3,
     "metadata": {},
     "output_type": "execute_result"
    }
   ],
   "source": [
    "batch.transpile_errors[batch.transpile_errors[\"errortype\"].str.startswith(\"Unknown table: lening_mnd\")]"
   ]
  }
 ],
 "metadata": {
  "kernelspec": {
   "display_name": ".venv",
   "language": "python",
   "name": "python3"
  },
  "language_info": {
   "codemirror_mode": {
    "name": "ipython",
    "version": 3
   },
   "file_extension": ".py",
   "mimetype": "text/x-python",
   "name": "python",
   "nbconvert_exporter": "python",
   "pygments_lexer": "ipython3",
   "version": "3.11.0"
  },
  "vscode": {
   "interpreter": {
    "hash": "ec7db736b37276915fb7340dc6da8e9e61e7f81c2d44db0d08fe8ae4da315597"
   }
  }
 },
 "nbformat": 4,
 "nbformat_minor": 4
}
